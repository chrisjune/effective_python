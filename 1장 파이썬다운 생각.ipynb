{
 "cells": [
  {
   "cell_type": "code",
   "execution_count": 1,
   "metadata": {},
   "outputs": [
    {
     "name": "stdout",
     "output_type": "stream",
     "text": [
      "sys.version_info(major=3, minor=6, micro=8, releaselevel='final', serial=0)\n",
      "3.6.8 (default, Apr 29 2020, 19:51:59) \n",
      "[GCC 4.2.1 Compatible Apple LLVM 10.0.1 (clang-1001.0.46.4)]\n"
     ]
    }
   ],
   "source": [
    "## way 1 사용중인 파이썬 버전을 알자\n",
    "\n",
    "# python3 --version\n",
    "import sys\n",
    "print(sys.version_info)\n",
    "print(sys.version)"
   ]
  },
  {
   "cell_type": "code",
   "execution_count": 2,
   "metadata": {},
   "outputs": [],
   "source": [
    "# 핵심정리\n",
    "# * 파이썬의 주요버전인 파이썬2, 3 모두 활발히 사용중\n",
    "# * 파이썬에서는 CPython, Jython, IronPython, PyPy와 같은 다양한 런타임이 있다.\n",
    "# * 시스템에서 파이썬을 실행하는 명령이 사용하려는 파이썬 버전에서 지원하는지 확인해야한다.\n",
    "# * 파이썬커뮤니티에서 주로 3버전을 사용하므로 프로젝트는 3버전으로 사용하자.\n",
    "# * 파이썬에서 파일을 모듈이라고 부른다."
   ]
  },
  {
   "cell_type": "code",
   "execution_count": 3,
   "metadata": {},
   "outputs": [],
   "source": [
    "## way 2 PEP 8 스타일 가이드를 따르자.\n",
    "### 화이트스페이스\n",
    "* 탭이아닌 스페이스를 쓴다\n",
    "* 1tab = 4space로 통일한다\n",
    "* 한줄의 길이는 79자리이하로 한다\n",
    "* 표현식이 길어져 줄이 넘어가면 들여쓰기를 한다\n",
    "* 파일에서 함수와 클래스는 빈 두줄로 구분한다\n",
    "* 클래스에서 메서드는 빈 한줄로 구분한다\n",
    "* 리스트인덱스, 함수호출, 키워드 인수 할당에는 스페이스를 사용하지 않는다\n",
    "* 변수 할당앞뒤에 스페이스를 하나만 사용한다\n",
    "\n",
    "### 네이밍\n",
    "* 함수명, 변수, 속성은 lowercase_underscore 형식을 사용한다\n",
    "* 보호(protected)는 _leading_underscore 형식을 사용한다\n",
    "* 비공개(private)는 __double_underscore 형식을 사용한다\n",
    "* 클래스와 Exception은 CapitalizedWore 형식을 사용한다\n",
    "* 모듈수준 상수는 ALL_CAPS를 사용한다.\n",
    "* 클래스 인스턴스메서드에는 첫번째 인자로 self를 지정한다\n",
    "* 클래스 메서드에서 첫번째 인자로 cls를 지정한다\n",
    "\n",
    "### 표현식과 문장\n",
    "* if not a is b -> if a is not b를 사용해라\n",
    "* if len(somelist) == 0) --> if not somelist로 길이를 확인하여 빈값을 확인하지 않는다. 빈값은 암시적으로 False이기 때문.\n",
    "* if [1], if 'hi' 도 마찬가지로 암시적인 True가 된다\n",
    "* 한 줄로 된 if, for, while, except 문을 사용하지 않고 여러줄로 명료하게 작성한다\n",
    "* 항상 파일 맨 뒤에 import를 놓는다\n",
    "* 모듈을 import 할 때는 반드시 절대경로를 사용하고, 상대경로를 사용하지 않는다.\n",
    "* from . import foo -> from bar import foo\n",
    "* import 순서는 표준 라이브러리 모듈, 서드파티 모듈, 자신이 만든 모듈 순서로 구분하고 구분마다 알파벳 순서로 임포트한다\n",
    "\n",
    "### 핵심정리\n",
    "* 파이썬 코드는 PEP8가이드를 따르자\n",
    "* 협업을 위해서는 공통된 스타일가이드를 공유해야한다\n",
    "* 일관성 있는 스타일로 작성하면 코드 유지보수가 쉽다"
   ]
  },
  {
   "cell_type": "code",
   "execution_count": 11,
   "metadata": {},
   "outputs": [],
   "source": [
    "## way 3. bytes, str, unicode의 차이점을 알자\n",
    "# python3\n",
    "# bytes = raw 8 bit, str = 유니코드\n",
    "# python2\n",
    "# str = raw 8 bit, unicode = 유니코드\n",
    "\n",
    "# 유니코드로 변환하는 헬퍼함수\n",
    "def to_str(bytes_or_str):\n",
    "    if isinstance(bytes_or_str, bytes):\n",
    "        value = bytes_or_str.decode('utf-8')\n",
    "    else\n",
    "        value = bytes_or_str\n",
    "    return value\n",
    "\n",
    "# bytes로 변환하는 헬퍼함수\n",
    "def to_bytes(bytes_or_str):\n",
    "    if isinstance(bytes_or_str, str):\n",
    "        value = bytes_or_str.encode('utf-8')\n",
    "    else:\n",
    "        value = bytes_or_str\n",
    "    return value\n",
    "\n",
    "# Python2 버전에서는 7비트 아스키문자만 포함하고 있는 str이면, unicode와 같은 타입으로 보인다는 문제가 있다.\n",
    "# PYthon3 버전에서는 개선이되어 빈 문자열도 bytes와 str 인스턴스는 다르게 취급한다.\n",
    "# Python3 버전에서는 파일핸들러가 기본적으로 utf-8 인코딩을 사용한다. 따라서 바이너리파일은 'wb'로 쓰고, 'rb'로 읽어야한다."
   ]
  },
  {
   "cell_type": "code",
   "execution_count": 4,
   "metadata": {},
   "outputs": [
    {
     "ename": "SyntaxError",
     "evalue": "invalid syntax (<ipython-input-4-68baa2e938ae>, line 2)",
     "output_type": "error",
     "traceback": [
      "\u001b[0;36m  File \u001b[0;32m\"<ipython-input-4-68baa2e938ae>\"\u001b[0;36m, line \u001b[0;32m2\u001b[0m\n\u001b[0;31m    * 파이썬3에서는 bytes는 8비트값, str은 유니코드 문자를 저장. >, + 같은 연산은 bytes와 str인스턴스를 함께 사용할 수 없다.\u001b[0m\n\u001b[0m                   ^\u001b[0m\n\u001b[0;31mSyntaxError\u001b[0m\u001b[0;31m:\u001b[0m invalid syntax\n"
     ]
    }
   ],
   "source": [
    "## 핵심정리\n",
    "* 파이썬3에서는 bytes는 8비트값, str은 유니코드 문자를 저장. >, + 같은 연산은 bytes와 str인스턴스를 함께 사용할 수 없다.\n",
    "* 파이썬2에서는 str은 8비트값, unicode는 유니코드 문자를 저장, str이 7비트 아스키문자만 포함하면 연산자에 str과 unicode를 사용할 수 있다.\n",
    "* 바이너리데이터를 파일에서 읽거나 쓸 때는 파일을 바이너리모드(wb, rb)로 오픈해야한다."
   ]
  },
  {
   "cell_type": "code",
   "execution_count": 8,
   "metadata": {},
   "outputs": [],
   "source": [
    "## way 4. 복잡한 표현식 대신 헬퍼함수를 작성하자\n",
    "# 문제상황, values = {'red':['5'], 'green':[''], 'blue':['0']}의 값을 숫자로 변환하고 싶다\n",
    "# 표현식\n",
    "values = {'red':['5'], 'green':[''], 'blue':['0']}\n",
    "expresion = int(values.get('red', [''])[0] or 0)\n",
    "\n",
    "# 헬퍼함수\n",
    "def get_first_int(values, key, default=0):\n",
    "    found = values.get(key, [''])\n",
    "    if found[0]:\n",
    "        found = int(found[0])\n",
    "    else:\n",
    "        found = default\n",
    "    return found\n",
    "\n",
    "# 핵심정리\n",
    "* 파이썬 문법의 표현식을 쓰면 코드를 한줄짜리로 작성할 수 있지만 복잡해지고 가독성이 떨어진다\n",
    "* 복잡한 표현은 헬퍼함수로 작성하는 것이 좋다. if/else 표현식은 불 연산자를 사용할 때보다 수월한 코드를 작성할 수 있다."
   ]
  },
  {
   "cell_type": "code",
   "execution_count": 15,
   "metadata": {},
   "outputs": [
    {
     "name": "stdout",
     "output_type": "stream",
     "text": [
      "st\n",
      "b'by'\n",
      "[1, 2]\n",
      "[1, 2, 3, 4]\n",
      "[1, 2]\n",
      "[]\n",
      "[1, 2, 3, 4, 5]\n",
      "[1, 2, 3, 4]\n",
      "[5]\n",
      "[3, 4, 5]\n",
      "[3, 4, 5]\n",
      "[3, 4]\n",
      "[3, 4]\n",
      "[]\n",
      "[1, 2, 3, 4, 5]\n",
      "[1, 2, 3, 4, 5]\n"
     ]
    }
   ],
   "source": [
    "## way 5. 시퀀스를 슬라이스하는 방법을 알자\n",
    "\n",
    "# 기본 슬라이싱 타입은 list, str, byte이다\n",
    "str_type = 'str'\n",
    "byte_type = b'byte'\n",
    "list_type = [1,2,3,4,5]\n",
    "\n",
    "print(str_type[:2])\n",
    "print(byte_type[:2])\n",
    "print(list_type[:2])\n",
    "\n",
    "# slice의 기본 형태는 somelist[start:end]이고, end는 인덱스에서 제외된다\n",
    "# [1,2,3,4,5,6,7]\n",
    "#  0  1  2  3  4  5  6\n",
    "#  0 -6 -5 -4 -3 -2 -1\n",
    "a = [1,2,3,4,5,6]\n",
    "print(a[:4])\n",
    "print(a[:-4])\n",
    "print(a[3:-3])\n",
    "\n",
    "# 인덱스 0과 마지막 인덱스는 생략가능하다\n",
    "assert a[:5] == a[0:5]\n",
    "assert a[5:] == a[5:len(a)]\n",
    "\n",
    "a = [1,2,3,4,5]\n",
    "print(a[:5])\n",
    "print(a[:-1])\n",
    "print(a[4:])\n",
    "print(a[-3:])\n",
    "print(a[2:5])\n",
    "print(a[2:-1])\n",
    "print(a[-3:-1])\n",
    "\n",
    "# 슬라이싱은 인덱스를 벗어나도 적절히 처리한다\n",
    "print(a[100:])\n",
    "print(a[:100])\n",
    "print(a[-100:])"
   ]
  },
  {
   "cell_type": "code",
   "execution_count": 44,
   "metadata": {},
   "outputs": [
    {
     "name": "stdout",
     "output_type": "stream",
     "text": [
      "c: 1 d: 2\n",
      "[1, 0, 5]\n",
      "4500634888 4499517256\n",
      "[1, 2, 3, 4] [10, 2, 3, 4]\n",
      "[100, 101, 102] [100, 101, 102]\n"
     ]
    }
   ],
   "source": [
    "# 값을 할당\n",
    "a = [1,2,3,4,5]\n",
    "c, d = a[:2]\n",
    "print('c:',c, 'd:', d)\n",
    "\n",
    "a = [1,2,3,4,5]\n",
    "a[1:4] = [0]\n",
    "print(a)\n",
    "\n",
    "a = [1,2,3,4,5]\n",
    "b = a[:]\n",
    "assert b == a and b is not a\n",
    "print(id(b), id(a))\n",
    "\n",
    "a = [1,2,3,4]\n",
    "b = a[:]\n",
    "b[0] = 10\n",
    "print(a, b)\n",
    "\n",
    "a = [1,2,3,4,5]\n",
    "b = a\n",
    "a[:] = [100,101,102]\n",
    "print(a, b)\n",
    "\n",
    "\n",
    "# 핵심정리\n",
    "* start에 0이나 end에 길이를 넣지말자\n",
    "* 슬라이싱은 넘어나는 범위를 허용하므로 a[:100], a[-100:] 처럼 시퀀스경계 앞 또는 뒤를 표현하기 쉽다.\n",
    "* list 슬라이스에 할당하면 길이가 달라도 참조대상으로 대체한다\n"
   ]
  },
  {
   "cell_type": "code",
   "execution_count": 68,
   "metadata": {},
   "outputs": [
    {
     "name": "stdout",
     "output_type": "stream",
     "text": [
      "[1, 3, 5]\n",
      "[5, 3, 1]\n",
      "[3, 1]\n",
      "[4, 2]\n",
      "[4]\n",
      "[]\n",
      "[4]\n",
      "3\n",
      "5\n"
     ]
    }
   ],
   "source": [
    "# way 6. 슬라이스에 start, end, stride를 함께쓰지말자\n",
    "a = [1,2,3,4,5]\n",
    "print(a[::2])\n",
    "print(a[::-2])\n",
    "\n",
    "print(a[2::-2])\n",
    "print(a[-2::-2])\n",
    "print(a[-2:2:-2])\n",
    "print(a[2:2:-2])\n",
    "\n",
    "## stride를 사용하려면 양수를 쓰고, start와 end인덱스를 함께 사용하지 말아야한다, 꼭 start와 end가 필요하다면\n",
    "## stride의 결과 슬라이스를 변수에 할당하고 이를 사용한다\n",
    "b = a[::-1]\n",
    "c = b[1:2]\n",
    "print(c)\n",
    "\n",
    "# 내장모듈 islice는 매개변수에 음수를 허용하지 않는다\n",
    "from itertools import islice\n",
    "for i in islice([1,2,3,4,5],2,10,2):\n",
    "    print(i)\n",
    "    \n",
    "# 핵심정리\n",
    "# * start, end, stride 한번에 지정하면 혼란스러울 수 있다\n",
    "# * 음수 stride는 피하자\n",
    "# * 셋 모두 사용하려면 islice를 사용하자"
   ]
  },
  {
   "cell_type": "code",
   "execution_count": null,
   "metadata": {},
   "outputs": [],
   "source": [
    "\n",
    "\n"
   ]
  },
  {
   "cell_type": "code",
   "execution_count": null,
   "metadata": {},
   "outputs": [],
   "source": []
  },
  {
   "cell_type": "code",
   "execution_count": null,
   "metadata": {},
   "outputs": [],
   "source": []
  }
 ],
 "metadata": {
  "kernelspec": {
   "display_name": "Python 3",
   "language": "python",
   "name": "python3"
  },
  "language_info": {
   "codemirror_mode": {
    "name": "ipython",
    "version": 3
   },
   "file_extension": ".py",
   "mimetype": "text/x-python",
   "name": "python",
   "nbconvert_exporter": "python",
   "pygments_lexer": "ipython3",
   "version": "3.6.8"
  }
 },
 "nbformat": 4,
 "nbformat_minor": 4
}
